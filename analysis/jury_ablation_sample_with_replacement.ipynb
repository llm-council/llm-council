{
    "cells": [
        {
            "cell_type": "code",
            "execution_count": 42,
            "id": "281af5eb-abea-4b1a-8b9c-6366af366548",
            "metadata": {},
            "outputs": [],
            "source": [
                "import pandas as pd\n",
                "import numpy as np\n",
                "from scipy.optimize import minimize\n",
                "import matplotlib.pyplot as plt\n",
                "import seaborn as sns\n",
                "from tqdm import tqdm\n",
                "import math\n",
                "from sklearn.linear_model import LogisticRegression\n",
                "from collections import defaultdict\n",
                "from datasets import load_dataset\n",
                "import itertools\n",
                "import random\n",
                "from itertools import combinations\n",
                "import os\n",
                "\n",
                "\n",
                "def calculate_non_overlapping_percentage(\n",
                "    df, model_column_name=\"model\", lower_column_name=\"lower\", upper_column_name=\"upper\"\n",
                "):\n",
                "    \"\"\"Returns the percentage of non-overlapping intervals.\"\"\"\n",
                "    # Extract the model names and intervals\n",
                "    models = df[model_column_name]\n",
                "    intervals = df[[lower_column_name, upper_column_name]]\n",
                "\n",
                "    # Calculate all possible pairs of models\n",
                "    total_pairs = 0\n",
                "    non_overlapping_pairs = 0\n",
                "\n",
                "    for (model1, interval1), (model2, interval2) in combinations(\n",
                "        zip(models, intervals.itertuples(index=False, name=None)), 2\n",
                "    ):\n",
                "        total_pairs += 1\n",
                "        lower1, upper1 = interval1\n",
                "        lower2, upper2 = interval2\n",
                "\n",
                "        # Check if intervals do not overlap\n",
                "        if upper1 < lower2 or upper2 < lower1:\n",
                "            non_overlapping_pairs += 1\n",
                "\n",
                "    # Calculate the percentage of non-overlapping pairs\n",
                "    if total_pairs > 0:\n",
                "        percentage = (non_overlapping_pairs / total_pairs) * 100\n",
                "    else:\n",
                "        percentage = 0  # In case there are not enough models to form a pair\n",
                "\n",
                "    return percentage\n",
                "\n",
                "\n",
                "def get_win_rate_column(df, column, baseline):\n",
                "    \"\"\"Uses Terry-Bradley to get the predicted win rate from elo stats for a specific model.\"\"\"\n",
                "    to_dict = df[[\"model\", column]].set_index(\"model\").to_dict()[column]\n",
                "    win_rate_table = predict_win_rate(to_dict)\n",
                "    return win_rate_table[baseline].fillna(0.5).apply(lambda x: round(x * 100, 2))\n",
                "\n",
                "\n",
                "def get_win_rate(bootstrap_online_elo, reference_llm_completer):\n",
                "    \"\"\"Uses Terry-Bradley to get the predicted win rate from elo stats for all models.\"\"\"\n",
                "    stats = pd.DataFrame()\n",
                "    stats[\"results\"] = None\n",
                "    stats[\"results\"] = stats[\"results\"].astype(\"object\")\n",
                "\n",
                "    for i, model in enumerate(bootstrap_online_elo.index):\n",
                "        stats.at[i, \"model\"] = model\n",
                "        stats.at[i, \"score\"] = bootstrap_online_elo[model]\n",
                "\n",
                "    return get_win_rate_column(stats, \"score\", reference_llm_completer)\n",
                "\n",
                "\n",
                "def predict_win_rate(elo_ratings, SCALE=400, BASE=10, INIT_RATING=1000):\n",
                "    \"\"\"Predicts the win rate given ELO ratings, a specified scale, base, and init rating.\"\"\"\n",
                "    names = sorted(list(elo_ratings.keys()))\n",
                "    wins = defaultdict(lambda: defaultdict(lambda: 0))\n",
                "    for a in names:\n",
                "        for b in names:\n",
                "            ea = 1 / (1 + BASE ** ((elo_ratings[b] - elo_ratings[a]) / SCALE))\n",
                "            wins[a][b] = ea\n",
                "            wins[b][a] = 1 - ea\n",
                "\n",
                "    data = {a: [wins[a][b] if a != b else np.NAN for b in names] for a in names}\n",
                "\n",
                "    df = pd.DataFrame(data, index=names)\n",
                "    df.index.name = \"model_a\"\n",
                "    df.columns.name = \"model_b\"\n",
                "    return df.T\n",
                "\n",
                "\n",
                "def get_battles_from_judgment(df, WEIGHT=3):\n",
                "    \"\"\"Maps battle outcomes to specific winners. The WEIGHT is used to weight strong votes.\"\"\"\n",
                "    # Modified from https://github.com/lm-sys/arena-hard-auto/blob/main/show_result.py#L112C1-L176C30\n",
                "    battles = []\n",
                "    for _, row in df.iterrows():\n",
                "        output = {\n",
                "            \"question_id\": row[\"emobench_id\"],\n",
                "            \"model_a\": row[\"first_completion_by\"],\n",
                "            \"model_b\": row[\"second_completion_by\"],\n",
                "        }\n",
                "\n",
                "        weight = 1\n",
                "        if row[\"pairwise_choice\"] == \"A=B\":\n",
                "            output[\"winner\"] = \"tie\"\n",
                "        elif row[\"pairwise_choice\"] == \"A>B\":\n",
                "            output[\"winner\"] = \"model_a\"\n",
                "        elif row[\"pairwise_choice\"] == \"A>>B\":\n",
                "            output[\"winner\"] = \"model_a\"\n",
                "            weight = WEIGHT\n",
                "        elif row[\"pairwise_choice\"] == \"B>A\":\n",
                "            output[\"winner\"] = \"model_b\"\n",
                "        elif row[\"pairwise_choice\"] == \"B>>A\":\n",
                "            output[\"winner\"] = \"model_b\"\n",
                "            weight = WEIGHT\n",
                "        else:\n",
                "            print(\"Unknown pairwise_choice: \" + row[\"pairwise_choice\"])\n",
                "\n",
                "        for i in range(weight):\n",
                "            battles.append(output)\n",
                "\n",
                "    return pd.DataFrame(battles)\n",
                "\n",
                "\n",
                "def compute_mle_elo(df, reference_llm_completer, SCALE=400, BASE=10, INIT_RATING=1000):\n",
                "    \"\"\"Compute the ELO scores for all models.\"\"\"\n",
                "    df = get_battles_from_judgment(df)\n",
                "\n",
                "    models = pd.concat([df[\"model_a\"], df[\"model_b\"]]).unique()\n",
                "    models = pd.Series(np.arange(len(models)), index=models)\n",
                "\n",
                "    # duplicate battles\n",
                "    df = pd.concat([df, df], ignore_index=True)\n",
                "    p = len(models.index)\n",
                "    n = df.shape[0]\n",
                "\n",
                "    X = np.zeros([n, p])\n",
                "    X[np.arange(n), models[df[\"model_a\"]]] = +math.log(BASE)\n",
                "    X[np.arange(n), models[df[\"model_b\"]]] = -math.log(BASE)\n",
                "\n",
                "    # one A win => two A win\n",
                "    Y = np.zeros(n)\n",
                "    Y[df[\"winner\"] == \"model_a\"] = 1.0\n",
                "\n",
                "    # one tie => one A win + one B win\n",
                "    # Counts 1 tie as 1 A win and 1 B win, which is why we duplicate the battles.\n",
                "    tie_idx = df[\"winner\"] == \"tie\"\n",
                "    tie_idx[len(tie_idx) // 2 :] = False\n",
                "    Y[tie_idx] = 1.0\n",
                "\n",
                "    lr = LogisticRegression(fit_intercept=False, penalty=None, tol=1e-8)\n",
                "    lr.fit(X, Y)\n",
                "\n",
                "    elo_scores = SCALE * lr.coef_[0] + INIT_RATING\n",
                "\n",
                "    # set anchor as reference_llm_completer = 1000\n",
                "    if reference_llm_completer in models.index:\n",
                "        elo_scores += 1000 - elo_scores[models[reference_llm_completer]]\n",
                "    return pd.Series(elo_scores, index=models.index).sort_values(ascending=False)\n",
                "\n",
                "\n",
                "def sample_combinations(items, choose, instances):\n",
                "    \"\"\"Generate all possible combinations of the specified size, and sample them randomly.\"\"\"\n",
                "    # This is actually fully determinstic for n choose n.\n",
                "    return [random.choices(items, k=choose) for _ in range(instances)]\n",
                "\n",
                "\n",
                "def sample_llm_council_members(llm_council_members, k, n):\n",
                "    \"\"\"\n",
                "    Generates a list of n instances, each being a random sample of size k\n",
                "    from lm_council_members with replacement.\n",
                "\n",
                "    Parameters:\n",
                "    llm_council_members (list): The list of council members to sample from.\n",
                "    k (int): The size of each sample.\n",
                "    n (int): The number of instances to generate.\n",
                "\n",
                "    Returns:\n",
                "    list: A list containing n samples, each of size k.\n",
                "    \"\"\"\n",
                "    return [random.choices(llm_council_members, k=k) for _ in range(n)]\n",
                "\n",
                "\n",
                "def filter_ratings_by_allowlist(df, llm_judge_allowlist):\n",
                "    \"\"\"Filter ratings by a list of allowed judges.\"\"\"\n",
                "    return df[df[\"llm_judge\"].isin(llm_judge_allowlist)]\n",
                "\n",
                "\n",
                "def get_relevant_ratings_for_trial(df, emo_bench_ids, llm_judges, emo_bench_id_and_judge_to_ratings_map):\n",
                "    # Once the map is prepared, use pd.concat to merge all ratings.\n",
                "    combined_df = pd.DataFrame()\n",
                "    for emo_bench_id in emo_bench_ids:\n",
                "        for llm_judge in llm_judges:\n",
                "            ratings_for_this_emobench_id_and_llm_judge = (\n",
                "                emo_bench_id_and_judge_to_ratings_map[emo_bench_id][llm_judge]\n",
                "            )\n",
                "            combined_df = pd.concat(\n",
                "                [combined_df, ratings_for_this_emobench_id_and_llm_judge]\n",
                "            )\n",
                "\n",
                "    return combined_df\n",
                "\n",
                "\n",
                "def get_adversarial_votes(df, num_adversarial_judges):\n",
                "    \"\"\"Get a dataframe of adversarial judge ratings (totally random).\"\"\"\n",
                "    all_dfs = [get_adversarial_judge_ratings(df) for i in range(num_adversarial_judges)]\n",
                "    return pd.concat(all_dfs)\n",
                "\n",
                "\n",
                "def get_adversarial_judge_ratings(df):\n",
                "    \"\"\"Get ratings for adversarial judges.\"\"\"\n",
                "    # Extract unique combinations of 'id', 'first_completion_by', 'second_completion_by'\n",
                "    adversarial_judge_df = df[\n",
                "        [\"emobench_id\", \"first_completion_by\", \"second_completion_by\"]\n",
                "    ].drop_duplicates()\n",
                "\n",
                "    # Assign fixed values\n",
                "    adversarial_judge_df[\"llm_judge\"] = \"adversarial\"\n",
                "    adversarial_judge_df[\"metadata\"] = None\n",
                "\n",
                "    # Assign random pairwise choices.\n",
                "    adversarial_judge_df[\"pairwise_choice\"] = np.random.choice(\n",
                "        [\"A>B\", \"B>A\", \"A>>B\", \"B>>A\"], size=len(adversarial_judge_df)\n",
                "    )\n",
                "    return adversarial_judge_df\n",
                "\n",
                "\n",
                "def get_simulated_leaderboard_with_adversarial_judges(\n",
                "    df,\n",
                "    unique_council_members,\n",
                "    jury_size,\n",
                "    num_trials,\n",
                "    num_adversarial_judges,\n",
                "    num_adversarial_judges_frac,\n",
                "    adversarial_method,\n",
                "    simulation_normalized_number_judges,\n",
                "    reference_llm_completer,\n",
                "    num_emobench_ids,\n",
                "    emo_bench_id_and_judge_to_ratings_map,\n",
                "):\n",
                "    \"\"\"Get a simulated leaderboard with adversarial judges.\"\"\"\n",
                "    win_rate_dict = defaultdict(list)\n",
                "    rank_dict = defaultdict(list)\n",
                "    elo_dict = defaultdict(list)\n",
                "    sampled_jury_compositions = sample_combinations(\n",
                "        unique_council_members, jury_size, num_trials\n",
                "    )\n",
                "\n",
                "    council_win_rate_dict = defaultdict(list)\n",
                "    council_rank_dict = defaultdict(list)\n",
                "    council_elo_dict = defaultdict(list)\n",
                "\n",
                "    # Determine the number of adversarial judges.\n",
                "    num_real_judges = len(sampled_jury_compositions[0])\n",
                "    if num_adversarial_judges_frac:\n",
                "        # 1, 0.5 -> 2, 5, 0.5 -> 7\n",
                "        num_judges_including_adversaries = int(\n",
                "            num_real_judges / num_adversarial_judges_frac\n",
                "        )\n",
                "        num_adversarial_judges = num_judges_including_adversaries - num_real_judges\n",
                "    elif num_adversarial_judges:\n",
                "        num_judges_including_adversaries = num_real_judges + num_adversarial_judges\n",
                "    else:\n",
                "        num_judges_including_adversaries = num_real_judges\n",
                "        num_adversarial_judges = 0\n",
                "    print(f\"- Number of judges: {num_real_judges}\")\n",
                "    print(f\"- Number of adversarial judges: {num_adversarial_judges}\")\n",
                "    print(\n",
                "        f\"- Number of judges including adversaries: {num_judges_including_adversaries}\"\n",
                "    )\n",
                "\n",
                "    for sampled_jury_composition in tqdm(sampled_jury_compositions):\n",
                "        sampled_emobench_ids = sample_combinations(\n",
                "            df[\"emobench_id\"].unique(), num_emobench_ids, 1\n",
                "        )[0]\n",
                "        relevant_ratings = get_relevant_ratings_for_trial(\n",
                "            df, sampled_emobench_ids, sampled_jury_composition, emo_bench_id_and_judge_to_ratings_map\n",
                "        )\n",
                "\n",
                "        # Add adversarial judges, if applicable.\n",
                "        if num_adversarial_judges:\n",
                "            adversarial_df = get_adversarial_votes(\n",
                "                relevant_ratings, num_adversarial_judges\n",
                "            )\n",
                "            relevant_ratings = pd.concat([adversarial_df, relevant_ratings])\n",
                "\n",
                "        # Apply council majority aggregation.\n",
                "        # This step is important in order to reduce the number of total battles for bootstrapping.\n",
                "        relevant_ratings = (\n",
                "            relevant_ratings.groupby(\n",
                "                [\"emobench_id\", \"first_completion_by\", \"second_completion_by\"]\n",
                "            )[\"pairwise_choice\"]\n",
                "            .agg(lambda x: x.mode()[0])\n",
                "            .reset_index()\n",
                "        )\n",
                "\n",
                "        # Compute the ELO and bootstrap them.\n",
                "        bootstrap_online_elo = compute_mle_elo(\n",
                "            relevant_ratings, reference_llm_completer\n",
                "        )\n",
                "\n",
                "        # Save scores and win rates.\n",
                "        for llm_completer, elo_score in bootstrap_online_elo.to_dict().items():\n",
                "            elo_dict[llm_completer].append(elo_score)\n",
                "\n",
                "        win_rates = get_win_rate(bootstrap_online_elo, reference_llm_completer)\n",
                "        for llm_completer, win_rate in win_rates.to_dict().items():\n",
                "            win_rate_dict[llm_completer].append(win_rate)\n",
                "\n",
                "        ranks = bootstrap_online_elo.rank(method=\"min\", ascending=False)\n",
                "        for llm_completer, rank in ranks.items():\n",
                "            rank_dict[llm_completer].append(rank)\n",
                "\n",
                "    stats = pd.DataFrame()\n",
                "    for i, model in enumerate(bootstrap_online_elo.index):\n",
                "        stats.at[i, \"model\"] = model\n",
                "        stats.at[i, \"rank_score\"] = np.mean(rank_dict[model])\n",
                "        stats.at[i, \"rank_std\"] = np.std(rank_dict[model])\n",
                "        stats.at[i, \"rank_lower\"] = np.percentile(rank_dict[model], 2.5)\n",
                "        stats.at[i, \"rank_upper\"] = np.percentile(rank_dict[model], 97.5)\n",
                "\n",
                "        stats.at[i, \"elo_score\"] = np.mean(elo_dict[model])\n",
                "        stats.at[i, \"elo_std\"] = np.std(elo_dict[model])\n",
                "        stats.at[i, \"elo_lower\"] = np.percentile(elo_dict[model], 2.5)\n",
                "        stats.at[i, \"elo_upper\"] = np.percentile(elo_dict[model], 97.5)\n",
                "\n",
                "        stats.at[i, \"win_rate_score\"] = np.mean(win_rate_dict[model])\n",
                "        stats.at[i, \"win_rate_std\"] = np.std(win_rate_dict[model])\n",
                "        stats.at[i, \"win_rate_lower\"] = np.percentile(win_rate_dict[model], 2.5)\n",
                "        stats.at[i, \"win_rate_upper\"] = np.percentile(win_rate_dict[model], 97.5)\n",
                "\n",
                "    stats[\"separability\"] = calculate_non_overlapping_percentage(\n",
                "        stats,\n",
                "        model_column_name=\"model\",\n",
                "        lower_column_name=\"win_rate_lower\",\n",
                "        upper_column_name=\"win_rate_upper\",\n",
                "    )\n",
                "    return stats\n",
                "\n",
                "\n",
                "def get_jury_ablation_stats(\n",
                "    df,\n",
                "    num_trials,\n",
                "    unique_council_members,\n",
                "    num_adversarial_judges,\n",
                "    num_adversarial_judges_frac,\n",
                "    adversarial_method,\n",
                "    reference_llm_completer,\n",
                "    num_emobench_ids,\n",
                "    emo_bench_id_and_judge_to_ratings_map,\n",
                "):\n",
                "    \"\"\"Get a simulated leaderboard with number of adversarial judges.\"\"\"\n",
                "    jury_ablation_stats_with_adversarial_judges = pd.DataFrame()\n",
                "\n",
                "    # Map None to 0.\n",
                "    if num_adversarial_judges is None:\n",
                "        num_adversarial_judges = 0\n",
                "    if num_adversarial_judges_frac is None:\n",
                "        num_adversarial_judges_frac = 0\n",
                "\n",
                "    if num_adversarial_judges:\n",
                "        simulation_normalized_number_judges = (\n",
                "            len(unique_council_members) + num_adversarial_judges\n",
                "        )\n",
                "    elif num_adversarial_judges_frac:\n",
                "        simulation_normalized_number_judges = int(\n",
                "            len(unique_council_members) / num_adversarial_judges_frac\n",
                "        )\n",
                "    else:\n",
                "        simulation_normalized_number_judges = len(unique_council_members)\n",
                "    print(\n",
                "        f\"Number of situation-normalized council members: {simulation_normalized_number_judges}\"\n",
                "    )\n",
                "\n",
                "    for jury_size in range(1, len(unique_council_members) + 1):\n",
                "        print(f\"Evaluating jury size: {jury_size}\")\n",
                "        num_retries_left = 3\n",
                "        while num_retries_left > 0:\n",
                "            try:\n",
                "                stats = get_simulated_leaderboard_with_adversarial_judges(\n",
                "                    df,\n",
                "                    unique_council_members,\n",
                "                    jury_size,\n",
                "                    num_trials,\n",
                "                    num_adversarial_judges,\n",
                "                    num_adversarial_judges_frac,\n",
                "                    adversarial_method,\n",
                "                    simulation_normalized_number_judges,\n",
                "                    reference_llm_completer,\n",
                "                    num_emobench_ids,\n",
                "                    emo_bench_id_and_judge_to_ratings_map,\n",
                "                )\n",
                "                break\n",
                "            except Exception as e:\n",
                "                print(f\"Encountered separability issue: {e}\")\n",
                "                import traceback\n",
                "\n",
                "                traceback.print_exc()\n",
                "                num_retries_left -= 1\n",
                "\n",
                "        jury_ablation_stats_with_adversarial_judges.at[jury_size, \"rank_std.mean\"] = (\n",
                "            stats[\"rank_std\"].mean()\n",
                "        )\n",
                "        print(stats[\"rank_std\"].mean())\n",
                "        jury_ablation_stats_with_adversarial_judges.at[jury_size, \"rank_std.std\"] = (\n",
                "            stats[\"rank_std\"].std()\n",
                "        )\n",
                "        jury_ablation_stats_with_adversarial_judges.at[\n",
                "            jury_size, \"rank_std.ci.upper\"\n",
                "        ] = np.percentile(stats[\"rank_std\"], 97.5)\n",
                "        jury_ablation_stats_with_adversarial_judges.at[\n",
                "            jury_size, \"rank_std.ci.lower\"\n",
                "        ] = np.percentile(stats[\"rank_std\"], 2.5)\n",
                "        jury_ablation_stats_with_adversarial_judges.at[\n",
                "            jury_size, \"rank_std.mean.std_upper\"\n",
                "        ] = jury_ablation_stats_with_adversarial_judges.at[jury_size, \"rank_std.mean\"] + jury_ablation_stats_with_adversarial_judges.at[jury_size, \"rank_std.std\"]\n",
                "        jury_ablation_stats_with_adversarial_judges.at[\n",
                "            jury_size, \"rank_std.mean.std_lower\"\n",
                "        ] = jury_ablation_stats_with_adversarial_judges.at[jury_size, \"rank_std.mean\"] - jury_ablation_stats_with_adversarial_judges.at[jury_size, \"rank_std.std\"]\n",
                "        \n",
                "        jury_ablation_stats_with_adversarial_judges.at[jury_size, \"elo_std.mean\"] = (\n",
                "            stats[\"elo_std\"].mean()\n",
                "        )\n",
                "        jury_ablation_stats_with_adversarial_judges.at[jury_size, \"elo_std.std\"] = (\n",
                "            stats[\"elo_std\"].std()\n",
                "        )\n",
                "        jury_ablation_stats_with_adversarial_judges.at[\n",
                "            jury_size, \"elo_std.ci.upper\"\n",
                "        ] = np.percentile(stats[\"elo_std\"], 97.5)\n",
                "        jury_ablation_stats_with_adversarial_judges.at[\n",
                "            jury_size, \"elo_std.ci.lower\"\n",
                "        ] = np.percentile(stats[\"elo_std\"], 2.5)\n",
                "        jury_ablation_stats_with_adversarial_judges.at[\n",
                "            jury_size, \"win_rate_std.mean\"\n",
                "        ] = stats[\"win_rate_std\"].mean()\n",
                "        jury_ablation_stats_with_adversarial_judges.at[\n",
                "            jury_size, \"win_rate_std.std\"\n",
                "        ] = stats[\"win_rate_std\"].std()\n",
                "        jury_ablation_stats_with_adversarial_judges.at[\n",
                "            jury_size, \"win_rate_std.ci.upper\"\n",
                "        ] = np.percentile(stats[\"win_rate_std\"], 97.5)\n",
                "        jury_ablation_stats_with_adversarial_judges.at[\n",
                "            jury_size, \"win_rate_std.ci.lower\"\n",
                "        ] = np.percentile(stats[\"win_rate_std\"], 2.5)\n",
                "\n",
                "        # Separability\n",
                "        jury_ablation_stats_with_adversarial_judges.at[\n",
                "            jury_size, \"separability.mean\"\n",
                "        ] = stats[\"separability\"].mean()\n",
                "        jury_ablation_stats_with_adversarial_judges.at[\n",
                "            jury_size, \"separability.std\"\n",
                "        ] = stats[\"separability\"].std()\n",
                "        jury_ablation_stats_with_adversarial_judges.at[\n",
                "            jury_size, \"separability.ci.upper\"\n",
                "        ] = np.percentile(stats[\"separability\"], 97.5)\n",
                "        jury_ablation_stats_with_adversarial_judges.at[\n",
                "            jury_size, \"separability.ci.lower\"\n",
                "        ] = np.percentile(stats[\"separability\"], 2.5)\n",
                "\n",
                "    print(\"Finished jury ablation.\")\n",
                "    return jury_ablation_stats_with_adversarial_judges"
            ]
        },
        {
            "cell_type": "code",
            "execution_count": 5,
            "id": "e633d5c6-2ecb-4e54-8930-48c57cb6ab41",
            "metadata": {},
            "outputs": [],
            "source": [
                "# Read the data.\n",
                "dataset = load_dataset(\"llm-council/emotional_application\", \"response_judging\")\n",
                "df = dataset[\"council\"].to_pandas()"
            ]
        },
        {
            "cell_type": "code",
            "execution_count": 6,
            "id": "99f0a1d3-72c1-45ed-bdfe-ab0d9386761f",
            "metadata": {},
            "outputs": [],
            "source": [
                "# There can be repeated members in both cases, assuming we are sampling with replacement.\n",
                "# First get a map of (emo_bench_id, llm_judge) -> relevant ratings.\n",
                "emo_bench_id_and_judge_to_ratings_map = defaultdict(dict)\n",
                "for emo_bench_id in df[\"emobench_id\"].unique():\n",
                "    for llm_judge in df[\"llm_judge\"].unique():\n",
                "        df_subset = df[df[\"emobench_id\"] == emo_bench_id]\n",
                "        emo_bench_id_and_judge_to_ratings_map[emo_bench_id][llm_judge] = (\n",
                "            filter_ratings_by_allowlist(df_subset, [llm_judge])\n",
                "        )"
            ]
        },
        {
            "cell_type": "markdown",
            "id": "4438873e-dfe0-48f9-b1a2-4f357c607044",
            "metadata": {},
            "source": [
                "# Plot"
            ]
        },
        {
            "cell_type": "code",
            "execution_count": 110,
            "id": "8775497e-6e01-41b5-9f49-a4d5d7573d63",
            "metadata": {},
            "outputs": [],
            "source": [
                "import matplotlib.pyplot as plt\n",
                "import seaborn as sns\n",
                "import pandas as pd\n",
                "\n",
                "def plot_combined_jury_ablation(\n",
                "    jury_ablation_stats_map, \n",
                "    main_stat_name, \n",
                "    main_stat, \n",
                "    main_stat_upper,\n",
                "    main_stat_lower, \n",
                "    # title1, \n",
                "    # title2,\n",
                "    num_trials,\n",
                "    num_data_ids,\n",
                "):\n",
                "    # Create a new figure with two subplots\n",
                "    fig, axes = plt.subplots(1, 2, figsize=(10, 5))\n",
                "\n",
                "    # Collect all unique jury sizes for setting x-ticks\n",
                "    all_jury_sizes = []\n",
                "\n",
                "    # Plot the first subplot (Variance of assigned rankings)\n",
                "    for (label, color), jury_ablation_stats in jury_ablation_stats_map.items():\n",
                "        # Append the jury sizes to the list\n",
                "        all_jury_sizes.extend(jury_ablation_stats.index.astype(int).tolist())\n",
                "        \n",
                "        axes[0].errorbar(\n",
                "            jury_ablation_stats.index.astype(int),\n",
                "            jury_ablation_stats[main_stat],\n",
                "            # yerr=[\n",
                "            #     jury_ablation_stats[main_stat] - jury_ablation_stats[main_stat_lower],\n",
                "            #     jury_ablation_stats[main_stat_upper] - jury_ablation_stats[main_stat],\n",
                "            # ],\n",
                "            fmt='-o',  # 'o' for circular markers\n",
                "            label=label,\n",
                "            color=color,\n",
                "            capsize=3,  # Add caps to the error bars\n",
                "        )\n",
                "\n",
                "    xticks = sorted(set(all_jury_sizes))\n",
                "    # Select every 5th tick\n",
                "    xticks = [tick for i, tick in enumerate(xticks) if i % 5 == 0 or i == len(xticks) - 1]\n",
                "    axes[0].set_xticks(xticks)\n",
                "    axes[0].set_xticklabels(xticks, fontsize=12)\n",
                "    axes[0].set_xlabel(\"# Non-Adversarial Jury Members\", fontsize=12)\n",
                "    axes[0].set_title(\"Mean Expected Rank Variance (MERV)\", fontsize=12)\n",
                "    axes[0].tick_params(axis='both', which='major', labelsize=12)\n",
                "    axes[0].tick_params(axis='both', which='minor', labelsize=12)\n",
                "\n",
                "    # Plot the second subplot (Separability)\n",
                "    for (label, color), jury_ablation_stats in jury_ablation_stats_map.items():\n",
                "        df = pd.DataFrame({\n",
                "            'Jury Size': jury_ablation_stats.index.astype(int),  # Convert to numerical\n",
                "            'Separability': jury_ablation_stats['separability.mean']\n",
                "        })\n",
                "        \n",
                "        all_jury_sizes.extend(df['Jury Size'].unique())\n",
                "\n",
                "        sns.regplot(\n",
                "            ax=axes[1],\n",
                "            x='Jury Size', \n",
                "            y='Separability', \n",
                "            data=df, \n",
                "            label=label, \n",
                "            color=color, \n",
                "            scatter_kws={'s': 50},  # Size of points\n",
                "            line_kws={'linestyle': ':'}  # Dotted trendline\n",
                "        )\n",
                "\n",
                "    axes[1].set_xticks(xticks)\n",
                "    axes[1].set_xticklabels(xticks, fontsize=12)\n",
                "    axes[1].set_xlabel(\"# Non-Adversarial Jury Members\", fontsize=12)\n",
                "    axes[1].set_ylabel(\"\", fontsize=12)\n",
                "    axes[1].tick_params(axis='both', which='major', labelsize=12)\n",
                "    axes[1].tick_params(axis='both', which='minor', labelsize=12)\n",
                "    axes[1].set_title(\"Separability (%)\", fontsize=12)\n",
                "\n",
                "    # Create a single legend for both subplots\n",
                "    handles, labels = axes[1].get_legend_handles_labels()\n",
                "    fig.legend(handles, labels, loc='upper center', ncol=len(jury_ablation_stats_map), fontsize=12)\n",
                "\n",
                "    # Adjust layout to make room for the shared legend\n",
                "    plt.tight_layout(rect=[0, 0, 1, 0.93])\n",
                "    # plt.savefig(\"/Users/justinzhao/Repos/llm-council/experiments/expansion.5_26/conversational_response_judging.100_to_200.qwen_32b_reference/jury_ablation_combined.pdf\")\n",
                "    plt.savefig(f\"/Users/justinzhao/Repos/llm-council-public/analysis/jury_ablation_charts/jury_ablation_n{num_trials}.data_size{num_data_ids}.pdf\")\n",
                "    plt.show()"
            ]
        },
        {
            "cell_type": "markdown",
            "id": "bd0cd265-6927-4eae-bb20-91890fd0df0f",
            "metadata": {},
            "source": [
                "# Run simulation and plot"
            ]
        },
        {
            "cell_type": "code",
            "execution_count": 67,
            "id": "733c8bce-0f16-442e-bc66-763301bb3ab1",
            "metadata": {},
            "outputs": [
                {
                    "name": "stdout",
                    "output_type": "stream",
                    "text": [
                        "Number of situation-normalized council members: 20\n",
                        "Evaluating jury size: 1\n",
                        "- Number of judges: 1\n",
                        "- Number of adversarial judges: 0\n",
                        "- Number of judges including adversaries: 1\n"
                    ]
                },
                {
                    "name": "stderr",
                    "output_type": "stream",
                    "text": [
                        "100%|█████████████████████████████████████████████████████████████████████████████████████████████████████████████████████████████| 100/100 [00:07<00:00, 14.11it/s]\n"
                    ]
                },
                {
                    "name": "stdout",
                    "output_type": "stream",
                    "text": [
                        "2.631938833557138\n",
                        "Evaluating jury size: 2\n",
                        "- Number of judges: 2\n",
                        "- Number of adversarial judges: 0\n",
                        "- Number of judges including adversaries: 2\n"
                    ]
                },
                {
                    "name": "stderr",
                    "output_type": "stream",
                    "text": [
                        "100%|█████████████████████████████████████████████████████████████████████████████████████████████████████████████████████████████| 100/100 [00:07<00:00, 12.76it/s]\n"
                    ]
                },
                {
                    "name": "stdout",
                    "output_type": "stream",
                    "text": [
                        "2.568037908047896\n",
                        "Evaluating jury size: 3\n",
                        "- Number of judges: 3\n",
                        "- Number of adversarial judges: 0\n",
                        "- Number of judges including adversaries: 3\n"
                    ]
                },
                {
                    "name": "stderr",
                    "output_type": "stream",
                    "text": [
                        "100%|█████████████████████████████████████████████████████████████████████████████████████████████████████████████████████████████| 100/100 [00:08<00:00, 12.11it/s]\n"
                    ]
                },
                {
                    "name": "stdout",
                    "output_type": "stream",
                    "text": [
                        "2.364780714375274\n",
                        "Evaluating jury size: 4\n",
                        "- Number of judges: 4\n",
                        "- Number of adversarial judges: 0\n",
                        "- Number of judges including adversaries: 4\n"
                    ]
                },
                {
                    "name": "stderr",
                    "output_type": "stream",
                    "text": [
                        "100%|█████████████████████████████████████████████████████████████████████████████████████████████████████████████████████████████| 100/100 [00:08<00:00, 12.03it/s]\n"
                    ]
                },
                {
                    "name": "stdout",
                    "output_type": "stream",
                    "text": [
                        "2.0682146797843775\n",
                        "Evaluating jury size: 5\n",
                        "- Number of judges: 5\n",
                        "- Number of adversarial judges: 0\n",
                        "- Number of judges including adversaries: 5\n"
                    ]
                },
                {
                    "name": "stderr",
                    "output_type": "stream",
                    "text": [
                        "100%|█████████████████████████████████████████████████████████████████████████████████████████████████████████████████████████████| 100/100 [00:09<00:00, 10.95it/s]\n"
                    ]
                },
                {
                    "name": "stdout",
                    "output_type": "stream",
                    "text": [
                        "1.8620616681688975\n",
                        "Evaluating jury size: 6\n",
                        "- Number of judges: 6\n",
                        "- Number of adversarial judges: 0\n",
                        "- Number of judges including adversaries: 6\n"
                    ]
                },
                {
                    "name": "stderr",
                    "output_type": "stream",
                    "text": [
                        "100%|█████████████████████████████████████████████████████████████████████████████████████████████████████████████████████████████| 100/100 [00:10<00:00,  9.97it/s]\n"
                    ]
                },
                {
                    "name": "stdout",
                    "output_type": "stream",
                    "text": [
                        "1.8391152767940055\n",
                        "Evaluating jury size: 7\n",
                        "- Number of judges: 7\n",
                        "- Number of adversarial judges: 0\n",
                        "- Number of judges including adversaries: 7\n"
                    ]
                },
                {
                    "name": "stderr",
                    "output_type": "stream",
                    "text": [
                        "100%|█████████████████████████████████████████████████████████████████████████████████████████████████████████████████████████████| 100/100 [00:09<00:00, 10.14it/s]\n"
                    ]
                },
                {
                    "name": "stdout",
                    "output_type": "stream",
                    "text": [
                        "1.7634685735557738\n",
                        "Evaluating jury size: 8\n",
                        "- Number of judges: 8\n",
                        "- Number of adversarial judges: 0\n",
                        "- Number of judges including adversaries: 8\n"
                    ]
                },
                {
                    "name": "stderr",
                    "output_type": "stream",
                    "text": [
                        "100%|█████████████████████████████████████████████████████████████████████████████████████████████████████████████████████████████| 100/100 [00:10<00:00,  9.87it/s]\n"
                    ]
                },
                {
                    "name": "stdout",
                    "output_type": "stream",
                    "text": [
                        "1.7022243760900757\n",
                        "Evaluating jury size: 9\n",
                        "- Number of judges: 9\n",
                        "- Number of adversarial judges: 0\n",
                        "- Number of judges including adversaries: 9\n"
                    ]
                },
                {
                    "name": "stderr",
                    "output_type": "stream",
                    "text": [
                        "100%|█████████████████████████████████████████████████████████████████████████████████████████████████████████████████████████████| 100/100 [00:12<00:00,  8.31it/s]\n"
                    ]
                },
                {
                    "name": "stdout",
                    "output_type": "stream",
                    "text": [
                        "1.8075298574525438\n",
                        "Evaluating jury size: 10\n",
                        "- Number of judges: 10\n",
                        "- Number of adversarial judges: 0\n",
                        "- Number of judges including adversaries: 10\n"
                    ]
                },
                {
                    "name": "stderr",
                    "output_type": "stream",
                    "text": [
                        "100%|█████████████████████████████████████████████████████████████████████████████████████████████████████████████████████████████| 100/100 [00:14<00:00,  7.01it/s]\n"
                    ]
                },
                {
                    "name": "stdout",
                    "output_type": "stream",
                    "text": [
                        "1.7350670887854207\n",
                        "Evaluating jury size: 11\n",
                        "- Number of judges: 11\n",
                        "- Number of adversarial judges: 0\n",
                        "- Number of judges including adversaries: 11\n"
                    ]
                },
                {
                    "name": "stderr",
                    "output_type": "stream",
                    "text": [
                        "100%|█████████████████████████████████████████████████████████████████████████████████████████████████████████████████████████████| 100/100 [00:14<00:00,  6.74it/s]\n"
                    ]
                },
                {
                    "name": "stdout",
                    "output_type": "stream",
                    "text": [
                        "1.6793826590916257\n",
                        "Evaluating jury size: 12\n",
                        "- Number of judges: 12\n",
                        "- Number of adversarial judges: 0\n",
                        "- Number of judges including adversaries: 12\n"
                    ]
                },
                {
                    "name": "stderr",
                    "output_type": "stream",
                    "text": [
                        "100%|█████████████████████████████████████████████████████████████████████████████████████████████████████████████████████████████| 100/100 [00:16<00:00,  6.02it/s]\n"
                    ]
                },
                {
                    "name": "stdout",
                    "output_type": "stream",
                    "text": [
                        "1.6384215588511164\n",
                        "Evaluating jury size: 13\n",
                        "- Number of judges: 13\n",
                        "- Number of adversarial judges: 0\n",
                        "- Number of judges including adversaries: 13\n"
                    ]
                },
                {
                    "name": "stderr",
                    "output_type": "stream",
                    "text": [
                        "100%|█████████████████████████████████████████████████████████████████████████████████████████████████████████████████████████████| 100/100 [00:15<00:00,  6.30it/s]\n"
                    ]
                },
                {
                    "name": "stdout",
                    "output_type": "stream",
                    "text": [
                        "1.6742262929793057\n",
                        "Evaluating jury size: 14\n",
                        "- Number of judges: 14\n",
                        "- Number of adversarial judges: 0\n",
                        "- Number of judges including adversaries: 14\n"
                    ]
                },
                {
                    "name": "stderr",
                    "output_type": "stream",
                    "text": [
                        "100%|█████████████████████████████████████████████████████████████████████████████████████████████████████████████████████████████| 100/100 [00:17<00:00,  5.72it/s]\n"
                    ]
                },
                {
                    "name": "stdout",
                    "output_type": "stream",
                    "text": [
                        "1.5984791016920332\n",
                        "Evaluating jury size: 15\n",
                        "- Number of judges: 15\n",
                        "- Number of adversarial judges: 0\n",
                        "- Number of judges including adversaries: 15\n"
                    ]
                },
                {
                    "name": "stderr",
                    "output_type": "stream",
                    "text": [
                        "100%|█████████████████████████████████████████████████████████████████████████████████████████████████████████████████████████████| 100/100 [00:18<00:00,  5.46it/s]\n"
                    ]
                },
                {
                    "name": "stdout",
                    "output_type": "stream",
                    "text": [
                        "1.6021372249379102\n",
                        "Evaluating jury size: 16\n",
                        "- Number of judges: 16\n",
                        "- Number of adversarial judges: 0\n",
                        "- Number of judges including adversaries: 16\n"
                    ]
                },
                {
                    "name": "stderr",
                    "output_type": "stream",
                    "text": [
                        "100%|█████████████████████████████████████████████████████████████████████████████████████████████████████████████████████████████| 100/100 [00:19<00:00,  5.06it/s]\n"
                    ]
                },
                {
                    "name": "stdout",
                    "output_type": "stream",
                    "text": [
                        "1.6055063182165064\n",
                        "Evaluating jury size: 17\n",
                        "- Number of judges: 17\n",
                        "- Number of adversarial judges: 0\n",
                        "- Number of judges including adversaries: 17\n"
                    ]
                },
                {
                    "name": "stderr",
                    "output_type": "stream",
                    "text": [
                        "100%|█████████████████████████████████████████████████████████████████████████████████████████████████████████████████████████████| 100/100 [00:22<00:00,  4.42it/s]\n"
                    ]
                },
                {
                    "name": "stdout",
                    "output_type": "stream",
                    "text": [
                        "1.590464193254728\n",
                        "Evaluating jury size: 18\n",
                        "- Number of judges: 18\n",
                        "- Number of adversarial judges: 0\n",
                        "- Number of judges including adversaries: 18\n"
                    ]
                },
                {
                    "name": "stderr",
                    "output_type": "stream",
                    "text": [
                        "100%|█████████████████████████████████████████████████████████████████████████████████████████████████████████████████████████████| 100/100 [00:24<00:00,  4.08it/s]\n"
                    ]
                },
                {
                    "name": "stdout",
                    "output_type": "stream",
                    "text": [
                        "1.552759009979936\n",
                        "Evaluating jury size: 19\n",
                        "- Number of judges: 19\n",
                        "- Number of adversarial judges: 0\n",
                        "- Number of judges including adversaries: 19\n"
                    ]
                },
                {
                    "name": "stderr",
                    "output_type": "stream",
                    "text": [
                        "100%|█████████████████████████████████████████████████████████████████████████████████████████████████████████████████████████████| 100/100 [00:25<00:00,  3.92it/s]\n"
                    ]
                },
                {
                    "name": "stdout",
                    "output_type": "stream",
                    "text": [
                        "1.5327660452622847\n",
                        "Evaluating jury size: 20\n",
                        "- Number of judges: 20\n",
                        "- Number of adversarial judges: 0\n",
                        "- Number of judges including adversaries: 20\n"
                    ]
                },
                {
                    "name": "stderr",
                    "output_type": "stream",
                    "text": [
                        "100%|█████████████████████████████████████████████████████████████████████████████████████████████████████████████████████████████| 100/100 [00:25<00:00,  3.87it/s]\n"
                    ]
                },
                {
                    "name": "stdout",
                    "output_type": "stream",
                    "text": [
                        "1.5290003546646427\n",
                        "Finished jury ablation.\n",
                        "Number of situation-normalized council members: 30\n",
                        "Evaluating jury size: 1\n",
                        "- Number of judges: 1\n",
                        "- Number of adversarial judges: 10\n",
                        "- Number of judges including adversaries: 11\n"
                    ]
                },
                {
                    "name": "stderr",
                    "output_type": "stream",
                    "text": [
                        "100%|█████████████████████████████████████████████████████████████████████████████████████████████████████████████████████████████| 100/100 [00:08<00:00, 11.16it/s]\n"
                    ]
                },
                {
                    "name": "stdout",
                    "output_type": "stream",
                    "text": [
                        "5.431767251758985\n",
                        "Evaluating jury size: 2\n",
                        "- Number of judges: 2\n",
                        "- Number of adversarial judges: 10\n",
                        "- Number of judges including adversaries: 12\n"
                    ]
                },
                {
                    "name": "stderr",
                    "output_type": "stream",
                    "text": [
                        "100%|█████████████████████████████████████████████████████████████████████████████████████████████████████████████████████████████| 100/100 [00:09<00:00, 10.13it/s]\n"
                    ]
                },
                {
                    "name": "stdout",
                    "output_type": "stream",
                    "text": [
                        "4.791848886010403\n",
                        "Evaluating jury size: 3\n",
                        "- Number of judges: 3\n",
                        "- Number of adversarial judges: 10\n",
                        "- Number of judges including adversaries: 13\n"
                    ]
                },
                {
                    "name": "stderr",
                    "output_type": "stream",
                    "text": [
                        "100%|█████████████████████████████████████████████████████████████████████████████████████████████████████████████████████████████| 100/100 [00:09<00:00, 10.83it/s]\n"
                    ]
                },
                {
                    "name": "stdout",
                    "output_type": "stream",
                    "text": [
                        "4.064052238305727\n",
                        "Evaluating jury size: 4\n",
                        "- Number of judges: 4\n",
                        "- Number of adversarial judges: 10\n",
                        "- Number of judges including adversaries: 14\n"
                    ]
                },
                {
                    "name": "stderr",
                    "output_type": "stream",
                    "text": [
                        "100%|█████████████████████████████████████████████████████████████████████████████████████████████████████████████████████████████| 100/100 [00:09<00:00, 10.38it/s]\n"
                    ]
                },
                {
                    "name": "stdout",
                    "output_type": "stream",
                    "text": [
                        "3.3568808013793037\n",
                        "Evaluating jury size: 5\n",
                        "- Number of judges: 5\n",
                        "- Number of adversarial judges: 10\n",
                        "- Number of judges including adversaries: 15\n"
                    ]
                },
                {
                    "name": "stderr",
                    "output_type": "stream",
                    "text": [
                        "100%|█████████████████████████████████████████████████████████████████████████████████████████████████████████████████████████████| 100/100 [00:11<00:00,  9.03it/s]\n"
                    ]
                },
                {
                    "name": "stdout",
                    "output_type": "stream",
                    "text": [
                        "2.958928169037992\n",
                        "Evaluating jury size: 6\n",
                        "- Number of judges: 6\n",
                        "- Number of adversarial judges: 10\n",
                        "- Number of judges including adversaries: 16\n"
                    ]
                },
                {
                    "name": "stderr",
                    "output_type": "stream",
                    "text": [
                        "100%|█████████████████████████████████████████████████████████████████████████████████████████████████████████████████████████████| 100/100 [00:12<00:00,  8.18it/s]\n"
                    ]
                },
                {
                    "name": "stdout",
                    "output_type": "stream",
                    "text": [
                        "2.593184426480204\n",
                        "Evaluating jury size: 7\n",
                        "- Number of judges: 7\n",
                        "- Number of adversarial judges: 10\n",
                        "- Number of judges including adversaries: 17\n"
                    ]
                },
                {
                    "name": "stderr",
                    "output_type": "stream",
                    "text": [
                        "100%|█████████████████████████████████████████████████████████████████████████████████████████████████████████████████████████████| 100/100 [00:12<00:00,  7.82it/s]\n"
                    ]
                },
                {
                    "name": "stdout",
                    "output_type": "stream",
                    "text": [
                        "2.4720286461765837\n",
                        "Evaluating jury size: 8\n",
                        "- Number of judges: 8\n",
                        "- Number of adversarial judges: 10\n",
                        "- Number of judges including adversaries: 18\n"
                    ]
                },
                {
                    "name": "stderr",
                    "output_type": "stream",
                    "text": [
                        "100%|█████████████████████████████████████████████████████████████████████████████████████████████████████████████████████████████| 100/100 [00:13<00:00,  7.34it/s]\n"
                    ]
                },
                {
                    "name": "stdout",
                    "output_type": "stream",
                    "text": [
                        "2.081446636150808\n",
                        "Evaluating jury size: 9\n",
                        "- Number of judges: 9\n",
                        "- Number of adversarial judges: 10\n",
                        "- Number of judges including adversaries: 19\n"
                    ]
                },
                {
                    "name": "stderr",
                    "output_type": "stream",
                    "text": [
                        "100%|█████████████████████████████████████████████████████████████████████████████████████████████████████████████████████████████| 100/100 [00:13<00:00,  7.23it/s]\n"
                    ]
                },
                {
                    "name": "stdout",
                    "output_type": "stream",
                    "text": [
                        "1.97469234019629\n",
                        "Evaluating jury size: 10\n",
                        "- Number of judges: 10\n",
                        "- Number of adversarial judges: 10\n",
                        "- Number of judges including adversaries: 20\n"
                    ]
                },
                {
                    "name": "stderr",
                    "output_type": "stream",
                    "text": [
                        "100%|█████████████████████████████████████████████████████████████████████████████████████████████████████████████████████████████| 100/100 [00:16<00:00,  5.98it/s]\n"
                    ]
                },
                {
                    "name": "stdout",
                    "output_type": "stream",
                    "text": [
                        "2.0006943877856567\n",
                        "Evaluating jury size: 11\n",
                        "- Number of judges: 11\n",
                        "- Number of adversarial judges: 10\n",
                        "- Number of judges including adversaries: 21\n"
                    ]
                },
                {
                    "name": "stderr",
                    "output_type": "stream",
                    "text": [
                        "100%|█████████████████████████████████████████████████████████████████████████████████████████████████████████████████████████████| 100/100 [00:16<00:00,  5.89it/s]\n"
                    ]
                },
                {
                    "name": "stdout",
                    "output_type": "stream",
                    "text": [
                        "1.7670665675222879\n",
                        "Evaluating jury size: 12\n",
                        "- Number of judges: 12\n",
                        "- Number of adversarial judges: 10\n",
                        "- Number of judges including adversaries: 22\n"
                    ]
                },
                {
                    "name": "stderr",
                    "output_type": "stream",
                    "text": [
                        "100%|█████████████████████████████████████████████████████████████████████████████████████████████████████████████████████████████| 100/100 [00:16<00:00,  5.89it/s]\n"
                    ]
                },
                {
                    "name": "stdout",
                    "output_type": "stream",
                    "text": [
                        "1.7750523820385922\n",
                        "Evaluating jury size: 13\n",
                        "- Number of judges: 13\n",
                        "- Number of adversarial judges: 10\n",
                        "- Number of judges including adversaries: 23\n"
                    ]
                },
                {
                    "name": "stderr",
                    "output_type": "stream",
                    "text": [
                        "100%|█████████████████████████████████████████████████████████████████████████████████████████████████████████████████████████████| 100/100 [00:18<00:00,  5.44it/s]\n"
                    ]
                },
                {
                    "name": "stdout",
                    "output_type": "stream",
                    "text": [
                        "1.7033071256136012\n",
                        "Evaluating jury size: 14\n",
                        "- Number of judges: 14\n",
                        "- Number of adversarial judges: 10\n",
                        "- Number of judges including adversaries: 24\n"
                    ]
                },
                {
                    "name": "stderr",
                    "output_type": "stream",
                    "text": [
                        "100%|█████████████████████████████████████████████████████████████████████████████████████████████████████████████████████████████| 100/100 [00:19<00:00,  5.10it/s]\n"
                    ]
                },
                {
                    "name": "stdout",
                    "output_type": "stream",
                    "text": [
                        "1.6486550391313082\n",
                        "Evaluating jury size: 15\n",
                        "- Number of judges: 15\n",
                        "- Number of adversarial judges: 10\n",
                        "- Number of judges including adversaries: 25\n"
                    ]
                },
                {
                    "name": "stderr",
                    "output_type": "stream",
                    "text": [
                        "100%|█████████████████████████████████████████████████████████████████████████████████████████████████████████████████████████████| 100/100 [00:20<00:00,  4.87it/s]\n"
                    ]
                },
                {
                    "name": "stdout",
                    "output_type": "stream",
                    "text": [
                        "1.587830440184075\n",
                        "Evaluating jury size: 16\n",
                        "- Number of judges: 16\n",
                        "- Number of adversarial judges: 10\n",
                        "- Number of judges including adversaries: 26\n"
                    ]
                },
                {
                    "name": "stderr",
                    "output_type": "stream",
                    "text": [
                        "100%|█████████████████████████████████████████████████████████████████████████████████████████████████████████████████████████████| 100/100 [00:21<00:00,  4.60it/s]\n"
                    ]
                },
                {
                    "name": "stdout",
                    "output_type": "stream",
                    "text": [
                        "1.606799018303582\n",
                        "Evaluating jury size: 17\n",
                        "- Number of judges: 17\n",
                        "- Number of adversarial judges: 10\n",
                        "- Number of judges including adversaries: 27\n"
                    ]
                },
                {
                    "name": "stderr",
                    "output_type": "stream",
                    "text": [
                        "100%|█████████████████████████████████████████████████████████████████████████████████████████████████████████████████████████████| 100/100 [00:23<00:00,  4.29it/s]\n"
                    ]
                },
                {
                    "name": "stdout",
                    "output_type": "stream",
                    "text": [
                        "1.6040255237058934\n",
                        "Evaluating jury size: 18\n",
                        "- Number of judges: 18\n",
                        "- Number of adversarial judges: 10\n",
                        "- Number of judges including adversaries: 28\n"
                    ]
                },
                {
                    "name": "stderr",
                    "output_type": "stream",
                    "text": [
                        "100%|█████████████████████████████████████████████████████████████████████████████████████████████████████████████████████████████| 100/100 [00:24<00:00,  4.03it/s]\n"
                    ]
                },
                {
                    "name": "stdout",
                    "output_type": "stream",
                    "text": [
                        "1.6083732049659996\n",
                        "Evaluating jury size: 19\n",
                        "- Number of judges: 19\n",
                        "- Number of adversarial judges: 10\n",
                        "- Number of judges including adversaries: 29\n"
                    ]
                },
                {
                    "name": "stderr",
                    "output_type": "stream",
                    "text": [
                        "100%|█████████████████████████████████████████████████████████████████████████████████████████████████████████████████████████████| 100/100 [00:26<00:00,  3.77it/s]\n"
                    ]
                },
                {
                    "name": "stdout",
                    "output_type": "stream",
                    "text": [
                        "1.5325818011780892\n",
                        "Evaluating jury size: 20\n",
                        "- Number of judges: 20\n",
                        "- Number of adversarial judges: 10\n",
                        "- Number of judges including adversaries: 30\n"
                    ]
                },
                {
                    "name": "stderr",
                    "output_type": "stream",
                    "text": [
                        "100%|█████████████████████████████████████████████████████████████████████████████████████████████████████████████████████████████| 100/100 [00:27<00:00,  3.63it/s]\n"
                    ]
                },
                {
                    "name": "stdout",
                    "output_type": "stream",
                    "text": [
                        "1.536205340068674\n",
                        "Finished jury ablation.\n",
                        "Number of situation-normalized council members: 40\n",
                        "Evaluating jury size: 1\n",
                        "- Number of judges: 1\n",
                        "- Number of adversarial judges: 1\n",
                        "- Number of judges including adversaries: 2\n"
                    ]
                },
                {
                    "name": "stderr",
                    "output_type": "stream",
                    "text": [
                        "100%|█████████████████████████████████████████████████████████████████████████████████████████████████████████████████████████████| 100/100 [00:06<00:00, 14.29it/s]\n"
                    ]
                },
                {
                    "name": "stdout",
                    "output_type": "stream",
                    "text": [
                        "4.062647687976946\n",
                        "Evaluating jury size: 2\n",
                        "- Number of judges: 2\n",
                        "- Number of adversarial judges: 2\n",
                        "- Number of judges including adversaries: 4\n"
                    ]
                },
                {
                    "name": "stderr",
                    "output_type": "stream",
                    "text": [
                        "100%|█████████████████████████████████████████████████████████████████████████████████████████████████████████████████████████████| 100/100 [00:07<00:00, 13.27it/s]\n"
                    ]
                },
                {
                    "name": "stdout",
                    "output_type": "stream",
                    "text": [
                        "3.4961759876931127\n",
                        "Evaluating jury size: 3\n",
                        "- Number of judges: 3\n",
                        "- Number of adversarial judges: 3\n",
                        "- Number of judges including adversaries: 6\n"
                    ]
                },
                {
                    "name": "stderr",
                    "output_type": "stream",
                    "text": [
                        "100%|█████████████████████████████████████████████████████████████████████████████████████████████████████████████████████████████| 100/100 [00:08<00:00, 11.85it/s]\n"
                    ]
                },
                {
                    "name": "stdout",
                    "output_type": "stream",
                    "text": [
                        "2.986904856401533\n",
                        "Evaluating jury size: 4\n",
                        "- Number of judges: 4\n",
                        "- Number of adversarial judges: 4\n",
                        "- Number of judges including adversaries: 8\n"
                    ]
                },
                {
                    "name": "stderr",
                    "output_type": "stream",
                    "text": [
                        "100%|█████████████████████████████████████████████████████████████████████████████████████████████████████████████████████████████| 100/100 [00:09<00:00, 10.63it/s]\n"
                    ]
                },
                {
                    "name": "stdout",
                    "output_type": "stream",
                    "text": [
                        "2.63607873449363\n",
                        "Evaluating jury size: 5\n",
                        "- Number of judges: 5\n",
                        "- Number of adversarial judges: 5\n",
                        "- Number of judges including adversaries: 10\n"
                    ]
                },
                {
                    "name": "stderr",
                    "output_type": "stream",
                    "text": [
                        "100%|█████████████████████████████████████████████████████████████████████████████████████████████████████████████████████████████| 100/100 [00:09<00:00, 11.05it/s]\n"
                    ]
                },
                {
                    "name": "stdout",
                    "output_type": "stream",
                    "text": [
                        "2.3724503388294282\n",
                        "Evaluating jury size: 6\n",
                        "- Number of judges: 6\n",
                        "- Number of adversarial judges: 6\n",
                        "- Number of judges including adversaries: 12\n"
                    ]
                },
                {
                    "name": "stderr",
                    "output_type": "stream",
                    "text": [
                        "100%|█████████████████████████████████████████████████████████████████████████████████████████████████████████████████████████████| 100/100 [00:10<00:00,  9.78it/s]\n"
                    ]
                },
                {
                    "name": "stdout",
                    "output_type": "stream",
                    "text": [
                        "2.1447791271979932\n",
                        "Evaluating jury size: 7\n",
                        "- Number of judges: 7\n",
                        "- Number of adversarial judges: 7\n",
                        "- Number of judges including adversaries: 14\n"
                    ]
                },
                {
                    "name": "stderr",
                    "output_type": "stream",
                    "text": [
                        "100%|█████████████████████████████████████████████████████████████████████████████████████████████████████████████████████████████| 100/100 [00:11<00:00,  8.53it/s]\n"
                    ]
                },
                {
                    "name": "stdout",
                    "output_type": "stream",
                    "text": [
                        "2.137125684786416\n",
                        "Evaluating jury size: 8\n",
                        "- Number of judges: 8\n",
                        "- Number of adversarial judges: 8\n",
                        "- Number of judges including adversaries: 16\n"
                    ]
                },
                {
                    "name": "stderr",
                    "output_type": "stream",
                    "text": [
                        "100%|█████████████████████████████████████████████████████████████████████████████████████████████████████████████████████████████| 100/100 [00:13<00:00,  7.65it/s]\n"
                    ]
                },
                {
                    "name": "stdout",
                    "output_type": "stream",
                    "text": [
                        "2.011402032691268\n",
                        "Evaluating jury size: 9\n",
                        "- Number of judges: 9\n",
                        "- Number of adversarial judges: 9\n",
                        "- Number of judges including adversaries: 18\n"
                    ]
                },
                {
                    "name": "stderr",
                    "output_type": "stream",
                    "text": [
                        "100%|█████████████████████████████████████████████████████████████████████████████████████████████████████████████████████████████| 100/100 [00:14<00:00,  7.04it/s]\n"
                    ]
                },
                {
                    "name": "stdout",
                    "output_type": "stream",
                    "text": [
                        "1.9168089785684461\n",
                        "Evaluating jury size: 10\n",
                        "- Number of judges: 10\n",
                        "- Number of adversarial judges: 10\n",
                        "- Number of judges including adversaries: 20\n"
                    ]
                },
                {
                    "name": "stderr",
                    "output_type": "stream",
                    "text": [
                        "100%|█████████████████████████████████████████████████████████████████████████████████████████████████████████████████████████████| 100/100 [00:15<00:00,  6.66it/s]\n"
                    ]
                },
                {
                    "name": "stdout",
                    "output_type": "stream",
                    "text": [
                        "2.0137065153451834\n",
                        "Evaluating jury size: 11\n",
                        "- Number of judges: 11\n",
                        "- Number of adversarial judges: 11\n",
                        "- Number of judges including adversaries: 22\n"
                    ]
                },
                {
                    "name": "stderr",
                    "output_type": "stream",
                    "text": [
                        "100%|█████████████████████████████████████████████████████████████████████████████████████████████████████████████████████████████| 100/100 [00:16<00:00,  6.06it/s]\n"
                    ]
                },
                {
                    "name": "stdout",
                    "output_type": "stream",
                    "text": [
                        "1.8735225687331323\n",
                        "Evaluating jury size: 12\n",
                        "- Number of judges: 12\n",
                        "- Number of adversarial judges: 12\n",
                        "- Number of judges including adversaries: 24\n"
                    ]
                },
                {
                    "name": "stderr",
                    "output_type": "stream",
                    "text": [
                        "100%|█████████████████████████████████████████████████████████████████████████████████████████████████████████████████████████████| 100/100 [00:18<00:00,  5.50it/s]\n"
                    ]
                },
                {
                    "name": "stdout",
                    "output_type": "stream",
                    "text": [
                        "1.784124503712118\n",
                        "Evaluating jury size: 13\n",
                        "- Number of judges: 13\n",
                        "- Number of adversarial judges: 13\n",
                        "- Number of judges including adversaries: 26\n"
                    ]
                },
                {
                    "name": "stderr",
                    "output_type": "stream",
                    "text": [
                        "100%|█████████████████████████████████████████████████████████████████████████████████████████████████████████████████████████████| 100/100 [00:19<00:00,  5.23it/s]\n"
                    ]
                },
                {
                    "name": "stdout",
                    "output_type": "stream",
                    "text": [
                        "1.7478516887613176\n",
                        "Evaluating jury size: 14\n",
                        "- Number of judges: 14\n",
                        "- Number of adversarial judges: 14\n",
                        "- Number of judges including adversaries: 28\n"
                    ]
                },
                {
                    "name": "stderr",
                    "output_type": "stream",
                    "text": [
                        "100%|█████████████████████████████████████████████████████████████████████████████████████████████████████████████████████████████| 100/100 [00:20<00:00,  4.80it/s]\n"
                    ]
                },
                {
                    "name": "stdout",
                    "output_type": "stream",
                    "text": [
                        "1.7172958207252236\n",
                        "Evaluating jury size: 15\n",
                        "- Number of judges: 15\n",
                        "- Number of adversarial judges: 15\n",
                        "- Number of judges including adversaries: 30\n"
                    ]
                },
                {
                    "name": "stderr",
                    "output_type": "stream",
                    "text": [
                        "100%|█████████████████████████████████████████████████████████████████████████████████████████████████████████████████████████████| 100/100 [00:21<00:00,  4.59it/s]\n"
                    ]
                },
                {
                    "name": "stdout",
                    "output_type": "stream",
                    "text": [
                        "1.7444513821806567\n",
                        "Evaluating jury size: 16\n",
                        "- Number of judges: 16\n",
                        "- Number of adversarial judges: 16\n",
                        "- Number of judges including adversaries: 32\n"
                    ]
                },
                {
                    "name": "stderr",
                    "output_type": "stream",
                    "text": [
                        "100%|█████████████████████████████████████████████████████████████████████████████████████████████████████████████████████████████| 100/100 [00:24<00:00,  4.08it/s]\n"
                    ]
                },
                {
                    "name": "stdout",
                    "output_type": "stream",
                    "text": [
                        "1.728635005842754\n",
                        "Evaluating jury size: 17\n",
                        "- Number of judges: 17\n",
                        "- Number of adversarial judges: 17\n",
                        "- Number of judges including adversaries: 34\n"
                    ]
                },
                {
                    "name": "stderr",
                    "output_type": "stream",
                    "text": [
                        "100%|█████████████████████████████████████████████████████████████████████████████████████████████████████████████████████████████| 100/100 [00:26<00:00,  3.82it/s]\n"
                    ]
                },
                {
                    "name": "stdout",
                    "output_type": "stream",
                    "text": [
                        "1.5891090434439439\n",
                        "Evaluating jury size: 18\n",
                        "- Number of judges: 18\n",
                        "- Number of adversarial judges: 18\n",
                        "- Number of judges including adversaries: 36\n"
                    ]
                },
                {
                    "name": "stderr",
                    "output_type": "stream",
                    "text": [
                        "100%|█████████████████████████████████████████████████████████████████████████████████████████████████████████████████████████████| 100/100 [00:27<00:00,  3.65it/s]\n"
                    ]
                },
                {
                    "name": "stdout",
                    "output_type": "stream",
                    "text": [
                        "1.6854114839043663\n",
                        "Evaluating jury size: 19\n",
                        "- Number of judges: 19\n",
                        "- Number of adversarial judges: 19\n",
                        "- Number of judges including adversaries: 38\n"
                    ]
                },
                {
                    "name": "stderr",
                    "output_type": "stream",
                    "text": [
                        "100%|█████████████████████████████████████████████████████████████████████████████████████████████████████████████████████████████| 100/100 [00:29<00:00,  3.41it/s]\n"
                    ]
                },
                {
                    "name": "stdout",
                    "output_type": "stream",
                    "text": [
                        "1.6197357000572334\n",
                        "Evaluating jury size: 20\n",
                        "- Number of judges: 20\n",
                        "- Number of adversarial judges: 20\n",
                        "- Number of judges including adversaries: 40\n"
                    ]
                },
                {
                    "name": "stderr",
                    "output_type": "stream",
                    "text": [
                        "100%|█████████████████████████████████████████████████████████████████████████████████████████████████████████████████████████████| 100/100 [00:30<00:00,  3.27it/s]\n"
                    ]
                },
                {
                    "name": "stdout",
                    "output_type": "stream",
                    "text": [
                        "1.6541032997376086\n",
                        "Finished jury ablation.\n"
                    ]
                },
                {
                    "data": {
                        "image/png": "[encoded data removed]",
                        "text/plain": [
                            "<Figure size 1000x500 with 2 Axes>"
                        ]
                    },
                    "metadata": {},
                    "output_type": "display_data"
                }
            ],
            "source": [
                "# Without adversarial judges.\n",
                "num_trials = 100\n",
                "num_emobench_ids = 30\n",
                "\n",
                "outdir = \"/Users/justinzhao/Repos/llm-council-public/analysis/\"\n",
                "\n",
                "jury_ablation_stats = get_jury_ablation_stats(\n",
                "    df=df,\n",
                "    unique_council_members=df[\"llm_judge\"].unique(),\n",
                "    num_trials=num_trials,\n",
                "    num_adversarial_judges=None,\n",
                "    num_adversarial_judges_frac=None,\n",
                "    adversarial_method=None,\n",
                "    reference_llm_completer=\"qwen1.5-32B-Chat\",\n",
                "    num_emobench_ids=num_emobench_ids,\n",
                "    emo_bench_id_and_judge_to_ratings_map=emo_bench_id_and_judge_to_ratings_map,\n",
                ")\n",
                "jury_ablation_stats.to_json(\n",
                "    os.path.join(outdir, f\"no_adversaries.n{num_trials}.data_size{num_emobench_ids}.json\"))\n",
                "\n",
                "# With a fixed number of adversarial judges.\n",
                "jury_ablation_stats_with_adversarial_judges = get_jury_ablation_stats(\n",
                "    df=df,\n",
                "    unique_council_members=df[\"llm_judge\"].unique(),\n",
                "    num_trials=num_trials,\n",
                "    num_adversarial_judges=10,\n",
                "    num_adversarial_judges_frac=None,\n",
                "    adversarial_method=\"random\",\n",
                "    reference_llm_completer=\"qwen1.5-32B-Chat\",\n",
                "    num_emobench_ids=num_emobench_ids,\n",
                "    emo_bench_id_and_judge_to_ratings_map=emo_bench_id_and_judge_to_ratings_map,\n",
                ")\n",
                "jury_ablation_stats_with_adversarial_judges.to_json(\n",
                "    os.path.join(outdir, f\"fixed_adversaries.10.n{num_trials}.data_size{num_emobench_ids}.json\"))\n",
                "\n",
                "# A fixed percentage of adversarial members.\n",
                "jury_ablation_stats_with_adversarial_judges_fixed_percentage = get_jury_ablation_stats(\n",
                "    df=df,\n",
                "    unique_council_members=df[\"llm_judge\"].unique(),\n",
                "    num_trials=num_trials,\n",
                "    num_adversarial_judges=None,\n",
                "    num_adversarial_judges_frac=0.5,\n",
                "    adversarial_method=\"random\",\n",
                "    reference_llm_completer=\"qwen1.5-32B-Chat\",\n",
                "    num_emobench_ids=num_emobench_ids,\n",
                "    emo_bench_id_and_judge_to_ratings_map=emo_bench_id_and_judge_to_ratings_map,\n",
                ")\n",
                "jury_ablation_stats_with_adversarial_judges_fixed_percentage.to_json(\n",
                "    os.path.join(outdir, f\"percentage_adversaries.50.n{num_trials}.data_size{num_emobench_ids}.json\"))\n",
                "\n",
                "\n",
                "plot_combined_jury_ablation(\n",
                "    jury_ablation_stats_map={\n",
                "        (\"No adversaries\", \"tab:red\"): jury_ablation_stats,\n",
                "        # (\"+10 adversaries\", \"tab:green\"): jury_ablation_stats_with_adversarial_judges,\n",
                "        (\"+50% adversaries\", \"tab:blue\"): jury_ablation_stats_with_adversarial_judges_fixed_percentage,\n",
                "    },\n",
                "    main_stat_name=\"rank σ\",\n",
                "    main_stat=\"rank_std.mean\", \n",
                "    # main_stat_upper=\"rank_std.ci.upper\", \n",
                "    main_stat_upper=\"rank_std.mean.std_upper\", \n",
                "    # main_stat_lower=\"rank_std.ci.lower\",\n",
                "    main_stat_lower=\"rank_std.mean.std_lower\",\n",
                "    # title1=\"Variance of assigned LLM rankings over simulated jury compositions (n=100)\",\n",
                "    # title2=\"Separability over simulated jury compositions (n=100)\",\n",
                "    num_trials=num_trials,\n",
                "    num_data_ids=num_emobench_ids,\n",
                ")\n"
            ]
        },
        {
            "cell_type": "markdown",
            "id": "c080482c-6ecd-481f-98b5-a50ac14c357c",
            "metadata": {},
            "source": [
                "# Plotting code"
            ]
        },
        {
            "cell_type": "code",
            "execution_count": 159,
            "id": "1e621c8f-c516-4d6a-ad65-75a4fc18a4ab",
            "metadata": {},
            "outputs": [],
            "source": [
                "import matplotlib.pyplot as plt\n",
                "import seaborn as sns\n",
                "import pandas as pd\n",
                "import numpy as np\n",
                "\n",
                "# Set global font size variable\n",
                "font_size = 24\n",
                "\n",
                "# Update global font size\n",
                "plt.rcParams.update({'font.size': font_size})\n",
                "\n",
                "def plot_combined_jury_ablation(\n",
                "    jury_ablation_stats_map, \n",
                "    main_stat_name, \n",
                "    main_stat, \n",
                "    main_stat_upper,\n",
                "    main_stat_lower, \n",
                "    num_trials,\n",
                "    num_data_ids,\n",
                "):\n",
                "    # Create a new figure with two subplots\n",
                "    fig, axes = plt.subplots(1, 2, figsize=(12, 5))\n",
                "\n",
                "    # Collect all unique jury sizes for setting x-ticks\n",
                "    all_jury_sizes = []\n",
                "\n",
                "    # Plot the first subplot (Variance of assigned rankings)\n",
                "    for (label, color), jury_ablation_stats in jury_ablation_stats_map.items():\n",
                "        # Append the jury sizes to the list\n",
                "        all_jury_sizes.extend(jury_ablation_stats.index.astype(int).tolist())\n",
                "        \n",
                "        axes[0].errorbar(\n",
                "            jury_ablation_stats.index.astype(int),\n",
                "            jury_ablation_stats[main_stat],\n",
                "            fmt='-o',  # 'o' for circular markers\n",
                "            label=label,\n",
                "            color=color,\n",
                "            capsize=3,  # Add caps to the error bars\n",
                "            markersize=10  # Increase the size of the dots\n",
                "        )\n",
                "\n",
                "    xticks = sorted(set(all_jury_sizes))\n",
                "    # Use custom xticks for x-axis\n",
                "    xticks = [tick for i, tick in enumerate(xticks) if i in [0, 4, 9, 14, 19]]\n",
                "    axes[0].set_xticks(xticks)\n",
                "    axes[0].set_xticklabels(xticks)\n",
                "    axes[0].set_ylabel(\"MERV\")  # Move title to y-axis label\n",
                "    y_max = 6\n",
                "    axes[0].set_yticks(np.arange(1.0, y_max + 1.0, 1.0))  # Set y-ticks from 1 to 6 with step 1\n",
                "\n",
                "    axes[0].tick_params(axis='both', which='major')\n",
                "    axes[0].tick_params(axis='both', which='minor')\n",
                "\n",
                "    # Plot the second subplot (Separability) with connected dots\n",
                "    for (label, color), jury_ablation_stats in jury_ablation_stats_map.items():\n",
                "        df = pd.DataFrame({\n",
                "            'Jury Size': jury_ablation_stats.index.astype(int),  # Convert to numerical\n",
                "            'Separability': jury_ablation_stats['separability.mean']\n",
                "        })\n",
                "        \n",
                "        all_jury_sizes.extend(df['Jury Size'].unique())\n",
                "\n",
                "        # Plot dots\n",
                "        axes[1].plot(\n",
                "            df['Jury Size'],\n",
                "            df['Separability'],\n",
                "            'o-',  # 'o' for dots, '-' for connecting line\n",
                "            label=label,\n",
                "            color=color,\n",
                "            markersize=10  # Increase size of points\n",
                "        )\n",
                "\n",
                "    axes[1].set_xlabel(\"\")\n",
                "    axes[1].set_xticks(xticks)\n",
                "    axes[1].set_xticklabels(xticks)\n",
                "    axes[1].set_ylabel(\"Separability (%)\")  # Move title to y-axis label\n",
                "\n",
                "    axes[1].tick_params(axis='both', which='major')\n",
                "    axes[1].tick_params(axis='both', which='minor')\n",
                "\n",
                "    # Create a single legend for both subplots\n",
                "    handles, labels = axes[1].get_legend_handles_labels()\n",
                "    fig.legend(handles, labels, loc='upper center', ncol=len(jury_ablation_stats_map), fontsize=20)\n",
                "\n",
                "    # Set a shared x-axis label for both subplots\n",
                "    fig.supxlabel(\"# Non-Adversarial Jury Members\", fontsize=font_size, y=0.1)\n",
                "\n",
                "    # Adjust layout to make room for the shared legend\n",
                "    plt.tight_layout(rect=[0, 0, 1, 0.90])\n",
                "    plt.savefig(f\"/Users/justinzhao/Repos/llm-council-public/analysis/jury_ablation_charts/jury_ablation_n{num_trials}.data_size{num_data_ids}.pdf\")\n",
                "    plt.show()\n"
            ]
        },
        {
            "cell_type": "code",
            "execution_count": 160,
            "id": "e3bb074b-526b-4fc8-b405-e6ce2b16e0d6",
            "metadata": {},
            "outputs": [
                {
                    "data": {
                        "image/png": "[encoded data removed]",
                        "text/plain": [
                            "<Figure size 1200x500 with 2 Axes>"
                        ]
                    },
                    "metadata": {},
                    "output_type": "display_data"
                }
            ],
            "source": [
                "plot_combined_jury_ablation(\n",
                "    jury_ablation_stats_map={\n",
                "        (\"No adversaries\", \"tab:red\"): jury_ablation_stats,\n",
                "        (\"+10 adversaries\", \"tab:green\"): jury_ablation_stats_with_adversarial_judges,\n",
                "        (\"+50% adversaries\", \"tab:blue\"): jury_ablation_stats_with_adversarial_judges_fixed_percentage,\n",
                "    },\n",
                "    main_stat_name=\"rank σ\",\n",
                "    main_stat=\"rank_std.mean\", \n",
                "    # main_stat_upper=\"rank_std.ci.upper\", \n",
                "    main_stat_upper=\"rank_std.mean.std_upper\", \n",
                "    # main_stat_lower=\"rank_std.ci.lower\",\n",
                "    main_stat_lower=\"rank_std.mean.std_lower\",\n",
                "    # title1=\"Variance of assigned LLM rankings over simulated jury compositions (n=100)\",\n",
                "    # title2=\"Separability over simulated jury compositions (n=100)\",\n",
                "    num_trials=num_trials,\n",
                "    num_data_ids=num_emobench_ids,\n",
                ")\n"
            ]
        },
        {
            "cell_type": "markdown",
            "id": "f9115693-c1c7-49bc-860f-9bbeb5767f88",
            "metadata": {},
            "source": [
                "# Single plot"
            ]
        },
        {
            "cell_type": "code",
            "execution_count": 107,
            "id": "0adf8a69-c282-4057-90a3-1eaa2bd8d20c",
            "metadata": {},
            "outputs": [],
            "source": [
                "import matplotlib.pyplot as plt\n",
                "import numpy as np\n",
                "\n",
                "# Set global font size variable\n",
                "font_size = 20\n",
                "\n",
                "# Update global font size\n",
                "plt.rcParams.update({'font.size': font_size})\n",
                "\n",
                "def plot_single_jury_ablation(\n",
                "    jury_ablation_stats_map, \n",
                "    main_stat_name, \n",
                "    main_stat, \n",
                "    main_stat_upper,\n",
                "    main_stat_lower, \n",
                "    num_trials,\n",
                "    num_data_ids,\n",
                "):\n",
                "    # Create a new figure for a single plot\n",
                "    fig, ax = plt.subplots(figsize=(6, 4))\n",
                "\n",
                "    # Collect all unique jury sizes for setting x-ticks\n",
                "    all_jury_sizes = []\n",
                "\n",
                "    # Plot the single plot (Variance of assigned rankings)\n",
                "    for (label, color), jury_ablation_stats in jury_ablation_stats_map.items():\n",
                "        # Append the jury sizes to the list\n",
                "        all_jury_sizes.extend(jury_ablation_stats.index.astype(int).tolist())\n",
                "        \n",
                "        ax.errorbar(\n",
                "            jury_ablation_stats.index.astype(int),\n",
                "            jury_ablation_stats[main_stat],\n",
                "            fmt='-o',  # 'o' for circular markers\n",
                "            label=label,\n",
                "            color=color,\n",
                "            capsize=3,  # Add caps to the error bars\n",
                "            markersize=10  # Increase the size of the dots\n",
                "        )\n",
                "\n",
                "    xticks = sorted(set(all_jury_sizes))\n",
                "    # Select specific ticks for x-axis\n",
                "    xticks = [tick for i, tick in enumerate(xticks) if i in [0, 4, 9, 14, 19]]\n",
                "    ax.set_xticks(xticks)\n",
                "    ax.set_xticklabels(xticks)\n",
                "    ax.set_xlabel(\"# Non-Adversarial Jury Members\")\n",
                "    ax.set_ylabel(\"MERV\")\n",
                "\n",
                "    # Ensure every whole number on the y-axis is labeled, up to 6.0\n",
                "    y_max = 6\n",
                "    ax.set_yticks(np.arange(1.0, y_max + 1.0, 1.0))  # Set y-ticks from 1 to 6 with step 1\n",
                "\n",
                "    ax.tick_params(axis='both', which='major')\n",
                "    ax.tick_params(axis='both', which='minor')\n",
                "\n",
                "    # Create a single legend\n",
                "    ax.legend(loc='upper right', fontsize=18)\n",
                "\n",
                "    # Adjust layout and save the plot\n",
                "    plt.tight_layout()\n",
                "    plt.savefig(f\"/Users/justinzhao/Repos/llm-council-public/analysis/jury_ablation_charts/jury_ablation_n{num_trials}.data_size{num_data_ids}.pdf\")\n",
                "    plt.show()\n"
            ]
        },
        {
            "cell_type": "code",
            "execution_count": 108,
            "id": "3ed6cd67-4a25-475c-b922-5e7509741a04",
            "metadata": {},
            "outputs": [
                {
                    "data": {
                        "image/png": "[encoded data removed]",
                        "text/plain": [
                            "<Figure size 600x400 with 1 Axes>"
                        ]
                    },
                    "metadata": {},
                    "output_type": "display_data"
                }
            ],
            "source": [
                "plot_single_jury_ablation(\n",
                "    jury_ablation_stats_map={\n",
                "        (\"No adversaries\", \"tab:red\"): jury_ablation_stats,\n",
                "        (\"+10 adversaries\", \"tab:green\"): jury_ablation_stats_with_adversarial_judges,\n",
                "        (\"+50% adversaries\", \"tab:blue\"): jury_ablation_stats_with_adversarial_judges_fixed_percentage,\n",
                "    },\n",
                "    main_stat_name=\"rank σ\",\n",
                "    main_stat=\"rank_std.mean\", \n",
                "    main_stat_upper=\"rank_std.mean.std_upper\", \n",
                "    main_stat_lower=\"rank_std.mean.std_lower\",\n",
                "    num_trials=num_trials,\n",
                "    num_data_ids=num_emobench_ids,\n",
                ")\n"
            ]
        },
        {
            "cell_type": "code",
            "execution_count": null,
            "id": "3eacda71-f994-4a76-8831-80a5b0b2c6e1",
            "metadata": {},
            "outputs": [],
            "source": []
        }
    ],
    "metadata": {
        "kernelspec": {
            "display_name": "Python 3 (ipykernel)",
            "language": "python",
            "name": "python3"
        },
        "language_info": {
            "codemirror_mode": {
                "name": "ipython",
                "version": 3
            },
            "file_extension": ".py",
            "mimetype": "text/x-python",
            "name": "python",
            "nbconvert_exporter": "python",
            "pygments_lexer": "ipython3",
            "version": "3.12.2"
        }
    },
    "nbformat": 4,
    "nbformat_minor": 5
}
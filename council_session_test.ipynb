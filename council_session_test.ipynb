{
 "cells": [
  {
   "cell_type": "code",
   "execution_count": 1,
   "id": "d500b37b-2434-4b85-b1ad-f47cefd1e883",
   "metadata": {},
   "outputs": [],
   "source": [
    "from llm_council.sessions.council_session import CouncilSession\n",
    "\n",
    "council_session = CouncilSession.load(\"tests/testdata/sample_session\")\n"
   ]
  },
  {
   "cell_type": "code",
   "execution_count": 3,
   "id": "52e12eef-6753-48fb-be12-c111a6dd9919",
   "metadata": {},
   "outputs": [
    {
     "data": {
      "text/html": [
       "<div>\n",
       "<style scoped>\n",
       "    .dataframe tbody tr th:only-of-type {\n",
       "        vertical-align: middle;\n",
       "    }\n",
       "\n",
       "    .dataframe tbody tr th {\n",
       "        vertical-align: top;\n",
       "    }\n",
       "\n",
       "    .dataframe thead th {\n",
       "        text-align: right;\n",
       "    }\n",
       "</style>\n",
       "<table border=\"1\" class=\"dataframe\">\n",
       "  <thead>\n",
       "    <tr style=\"text-align: right;\">\n",
       "      <th></th>\n",
       "      <th>llm_responder</th>\n",
       "      <th>llm_judge</th>\n",
       "      <th>Coherence</th>\n",
       "      <th>Relevance</th>\n",
       "      <th>completion_tokens</th>\n",
       "      <th>prompt_tokens</th>\n",
       "      <th>total_tokens</th>\n",
       "    </tr>\n",
       "  </thead>\n",
       "  <tbody>\n",
       "    <tr>\n",
       "      <th>0</th>\n",
       "      <td>together://meta-llama/Meta-Llama-3.1-8B-Instru...</td>\n",
       "      <td>openai://gpt-4o-mini</td>\n",
       "      <td>5</td>\n",
       "      <td>5</td>\n",
       "      <td>12</td>\n",
       "      <td>241</td>\n",
       "      <td>253</td>\n",
       "    </tr>\n",
       "    <tr>\n",
       "      <th>1</th>\n",
       "      <td>openai://gpt-4o-mini</td>\n",
       "      <td>together://meta-llama/Meta-Llama-3.1-8B-Instru...</td>\n",
       "      <td>5</td>\n",
       "      <td>2</td>\n",
       "      <td>24</td>\n",
       "      <td>505</td>\n",
       "      <td>529</td>\n",
       "    </tr>\n",
       "  </tbody>\n",
       "</table>\n",
       "</div>"
      ],
      "text/plain": [
       "                                       llm_responder  \\\n",
       "0  together://meta-llama/Meta-Llama-3.1-8B-Instru...   \n",
       "1                               openai://gpt-4o-mini   \n",
       "\n",
       "                                           llm_judge  Coherence  Relevance  \\\n",
       "0                               openai://gpt-4o-mini          5          5   \n",
       "1  together://meta-llama/Meta-Llama-3.1-8B-Instru...          5          2   \n",
       "\n",
       "   completion_tokens  prompt_tokens  total_tokens  \n",
       "0                 12            241           253  \n",
       "1                 24            505           529  "
      ]
     },
     "execution_count": 3,
     "metadata": {},
     "output_type": "execute_result"
    }
   ],
   "source": [
    "council_session.completions_df"
   ]
  },
  {
   "cell_type": "code",
   "execution_count": null,
   "id": "37a2a739-3150-4e23-9a23-b2f0adafe023",
   "metadata": {},
   "outputs": [],
   "source": []
  }
 ],
 "metadata": {
  "kernelspec": {
   "display_name": "Python 3 (ipykernel)",
   "language": "python",
   "name": "python3"
  },
  "language_info": {
   "codemirror_mode": {
    "name": "ipython",
    "version": 3
   },
   "file_extension": ".py",
   "mimetype": "text/x-python",
   "name": "python",
   "nbconvert_exporter": "python",
   "pygments_lexer": "ipython3",
   "version": "3.12.2"
  }
 },
 "nbformat": 4,
 "nbformat_minor": 5
}
